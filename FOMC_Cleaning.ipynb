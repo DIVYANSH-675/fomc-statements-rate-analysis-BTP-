{
 "cells": [
  {
   "cell_type": "markdown",
   "id": "ee125a54-5751-4b1e-9f0b-6082d314395d",
   "metadata": {},
   "source": [
    "### This script cleans raw FOMC statements for analysis. It is adapted from an open-source version by Miguel Acosta ([www.acostamiguel.com](http://www.acostamiguel.com)) and updated for Python 3.\n",
    "\n",
    "---\n",
    "\n",
    "### Input\n",
    "\n",
    "* Raw FOMC statements from `statements/statements.raw`\n",
    "\n",
    "---\n",
    "\n",
    "### Output\n",
    "\n",
    "1. **Cleaned statements**\n",
    "\n",
    "   * Path: `statements/statements.clean`\n",
    "   * Header, footer, and voting info removed\n",
    "   * Used in the project\n",
    "\n",
    "2. **Normalized statements**\n",
    "\n",
    "   * Path: `statements/statements.clean.np`\n",
    "   * Header/footer removed, stemmed, stopwords and numbers removed\n",
    "   * Not used in the project\n"
   ]
  },
  {
   "cell_type": "code",
   "execution_count": 1,
   "id": "c981a9fa",
   "metadata": {},
   "outputs": [],
   "source": [
    "import os, csv, re\n",
    "from os import listdir\n",
    "from os.path import isfile, join\n",
    "from nltk.stem.lancaster import LancasterStemmer\n",
    "from textmining_withnumbers import TermDocumentMatrix as TDM"
   ]
  },
  {
   "cell_type": "code",
   "execution_count": 2,
   "id": "a07b0add",
   "metadata": {},
   "outputs": [],
   "source": [
    "# Directory setup\n",
    "datadir      = 'data'\n",
    "statementdir = os.path.join('statements','statements.raw')\n",
    "cleanDir     = os.path.join('statements','statements.clean')\n",
    "cleanDirNP   = os.path.join('statements','statements.clean.np')\n",
    "outputDir    = 'output'"
   ]
  },
  {
   "cell_type": "code",
   "execution_count": 3,
   "id": "1ad1a5f4",
   "metadata": {},
   "outputs": [],
   "source": [
    "def getReplacementList(list_name):\n",
    "    allWords = [line.rstrip('\\n') for line in open(list_name, 'r')]\n",
    "    oldWords = [allWords[i] for i in range(len(allWords)) if i % 2 == 0]\n",
    "    newWords = [allWords[i] for i in range(len(allWords)) if i % 2 == 1]\n",
    "    return [oldWords, newWords]"
   ]
  },
  {
   "cell_type": "code",
   "execution_count": 4,
   "id": "4df216b3",
   "metadata": {},
   "outputs": [
    {
     "name": "stderr",
     "output_type": "stream",
     "text": [
      "<>:10: SyntaxWarning: invalid escape sequence '\\s'\n",
      "<>:13: SyntaxWarning: invalid escape sequence '\\s'\n",
      "<>:14: SyntaxWarning: invalid escape sequence '\\s'\n",
      "<>:10: SyntaxWarning: invalid escape sequence '\\s'\n",
      "<>:13: SyntaxWarning: invalid escape sequence '\\s'\n",
      "<>:14: SyntaxWarning: invalid escape sequence '\\s'\n",
      "/tmp/ipykernel_36303/3700697026.py:10: SyntaxWarning: invalid escape sequence '\\s'\n",
      "  deleteBefore = re.search(\"[Ff]or\\s[Ii]mmediate\\s[Rr]elease\", clean).start() + len('for immediate release')\n",
      "/tmp/ipykernel_36303/3700697026.py:13: SyntaxWarning: invalid escape sequence '\\s'\n",
      "  intaking = re.search(\"in\\staking\\sthe\\sdiscount\\srate\\saction\", clean)\n",
      "/tmp/ipykernel_36303/3700697026.py:14: SyntaxWarning: invalid escape sequence '\\s'\n",
      "  votingfor = re.search(\"voting\\sfor\\sthe\\sfomc\", clean)\n"
     ]
    }
   ],
   "source": [
    "def cleanStatement(statement, locationold, replacements, locationnew, stoplist, charsToKeep):\n",
    "    original = open(os.path.join(locationold, statement), 'r').read().lower()\n",
    "    clean = original\n",
    "    for todelete in ['.', '\\r\\n', '\\n', ',', '-', ';', ':']:\n",
    "        clean = clean.replace(todelete, ' ')\n",
    "    clean = re.sub(charsToKeep, '', clean)\n",
    "    clean = clean.replace('  ', ' ')\n",
    "    clean = clean.replace(' u s ', ' unitedstates ')\n",
    "\n",
    "    deleteBefore = re.search(\"[Ff]or\\s[Ii]mmediate\\s[Rr]elease\", clean).start() + len('for immediate release')\n",
    "    clean = clean[deleteBefore:]\n",
    "\n",
    "    intaking = re.search(\"in\\staking\\sthe\\sdiscount\\srate\\saction\", clean)\n",
    "    votingfor = re.search(\"voting\\sfor\\sthe\\sfomc\", clean)\n",
    "    if intaking is None and votingfor:\n",
    "        deleteAfter = votingfor.start()\n",
    "    elif votingfor is None and intaking:\n",
    "        deleteAfter = intaking.start()\n",
    "    elif votingfor is None and intaking is None:\n",
    "        deleteAfter = len(clean)\n",
    "    else:\n",
    "        deleteAfter = min(votingfor.start(), intaking.start())\n",
    "    clean = clean[:deleteAfter]\n",
    "\n",
    "    for word in range(len(replacements[0])):\n",
    "        clean = clean.replace(replacements[0][word], replacements[1][word])\n",
    "\n",
    "    for word in stoplist:\n",
    "        clean = clean.replace(' ' + word.lower() + ' ', ' ')\n",
    "\n",
    "    with open(os.path.join(locationnew, statement), 'w') as new:\n",
    "        new.write(clean)"
   ]
  },
  {
   "cell_type": "code",
   "execution_count": 5,
   "id": "7a7b28a9",
   "metadata": {},
   "outputs": [],
   "source": [
    "def main():\n",
    "    stoplist = [line.rstrip('\\n') for line in open(os.path.join(datadir, \"stoplist_mcdonald_comb.txt\"), 'r')]\n",
    "    stoplistNP = [line.rstrip('\\n') for line in open(os.path.join(datadir, \"emptystop.txt\"), 'r')]\n",
    "    replacements = getReplacementList(os.path.join(datadir, \"wordlist.txt\"))\n",
    "    replacementsNP = getReplacementList(os.path.join(datadir, \"wordlist.np.txt\"))\n",
    "    statementList = [f for f in listdir(statementdir) if isfile(join(statementdir, f))]\n",
    "    for statement in statementList:\n",
    "        cleanStatement(statement, statementdir, replacements, cleanDir, stoplist, '[^A-Za-z ]+')\n",
    "        cleanStatement(statement, statementdir, replacementsNP, cleanDirNP, stoplistNP, '[^A-Za-z0-9 ]+')"
   ]
  },
  {
   "cell_type": "code",
   "execution_count": 6,
   "id": "d99be4c4",
   "metadata": {},
   "outputs": [],
   "source": [
    "if __name__ == \"__main__\":\n",
    "    main()"
   ]
  },
  {
   "cell_type": "code",
   "execution_count": null,
   "id": "e4176749-cba6-460b-9019-bb1e6fe9dd18",
   "metadata": {},
   "outputs": [],
   "source": []
  },
  {
   "cell_type": "code",
   "execution_count": null,
   "id": "a6d50e0c-3c64-449e-a202-55b5997c9479",
   "metadata": {},
   "outputs": [],
   "source": []
  }
 ],
 "metadata": {
  "kernelspec": {
   "display_name": "Python 3 (ipykernel)",
   "language": "python",
   "name": "python3"
  },
  "language_info": {
   "codemirror_mode": {
    "name": "ipython",
    "version": 3
   },
   "file_extension": ".py",
   "mimetype": "text/x-python",
   "name": "python",
   "nbconvert_exporter": "python",
   "pygments_lexer": "ipython3",
   "version": "3.12.2"
  }
 },
 "nbformat": 4,
 "nbformat_minor": 5
}
